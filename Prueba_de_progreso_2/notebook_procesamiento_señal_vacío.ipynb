{
  "cells": [
    {
      "cell_type": "markdown",
      "id": "599b4818-4cab-4070-b9dd-9dfe44923390",
      "metadata": {
        "id": "599b4818-4cab-4070-b9dd-9dfe44923390"
      },
      "source": [
        "# Ejemplo de procesamiento de señales para aprendizaje automático\n",
        "\n",
        "Este ejemplo funciona sobre el conjunto de datos utilizado para la práctica 2, en cuyo enunciado pueden verse los detalles de la estructura de este dataset."
      ]
    },
    {
      "cell_type": "markdown",
      "id": "b398a3b0-bd86-4722-9d72-4f2131b3e270",
      "metadata": {
        "id": "b398a3b0-bd86-4722-9d72-4f2131b3e270"
      },
      "source": [
        "## Imports"
      ]
    },
    {
      "cell_type": "code",
      "execution_count": null,
      "id": "802200e0-ea7a-4bcd-b815-7adbce0f031f",
      "metadata": {
        "id": "802200e0-ea7a-4bcd-b815-7adbce0f031f"
      },
      "outputs": [],
      "source": [
        "import pandas as pd\n",
        "import numpy as np\n",
        "\n",
        "import matplotlib.pyplot as plt\n",
        "import seaborn as sns\n",
        "\n",
        "import os"
      ]
    },
    {
      "cell_type": "markdown",
      "id": "e84a4952-7f56-4a66-8693-9db6434625fa",
      "metadata": {
        "id": "e84a4952-7f56-4a66-8693-9db6434625fa"
      },
      "source": [
        "## Entendiendo los datos\n",
        "\n",
        "Primero intenta cargar un solo fichero, por ejemplo la grabación 3 del participante 5. Después muestra las primeras 5 líneas."
      ]
    },
    {
      "cell_type": "code",
      "execution_count": null,
      "id": "98127893-6532-4c09-915a-7ce3f5901b4a",
      "metadata": {
        "colab": {
          "base_uri": "https://localhost:8080/",
          "height": 333
        },
        "id": "98127893-6532-4c09-915a-7ce3f5901b4a",
        "outputId": "67c43ae9-0a54-4dc1-d18b-aa38ec52af8e"
      },
      "outputs": [
        {
          "ename": "FileNotFoundError",
          "evalue": "[Errno 2] No such file or directory: 'dataset/data/sub_05/rec_3.csv'",
          "output_type": "error",
          "traceback": [
            "\u001b[0;31m---------------------------------------------------------------------------\u001b[0m",
            "\u001b[0;31mFileNotFoundError\u001b[0m                         Traceback (most recent call last)",
            "\u001b[0;32m<ipython-input-4-da35d1387d04>\u001b[0m in \u001b[0;36m<cell line: 0>\u001b[0;34m()\u001b[0m\n\u001b[0;32m----> 1\u001b[0;31m \u001b[0ms_05_03\u001b[0m \u001b[0;34m=\u001b[0m \u001b[0mpd\u001b[0m\u001b[0;34m.\u001b[0m\u001b[0mread_csv\u001b[0m\u001b[0;34m(\u001b[0m\u001b[0;34m\"dataset/data/sub_05/rec_3.csv\"\u001b[0m\u001b[0;34m)\u001b[0m\u001b[0;34m\u001b[0m\u001b[0;34m\u001b[0m\u001b[0m\n\u001b[0m\u001b[1;32m      2\u001b[0m \u001b[0ms_05_03\u001b[0m\u001b[0;34m\u001b[0m\u001b[0;34m\u001b[0m\u001b[0m\n",
            "\u001b[0;32m/usr/local/lib/python3.11/dist-packages/pandas/io/parsers/readers.py\u001b[0m in \u001b[0;36mread_csv\u001b[0;34m(filepath_or_buffer, sep, delimiter, header, names, index_col, usecols, dtype, engine, converters, true_values, false_values, skipinitialspace, skiprows, skipfooter, nrows, na_values, keep_default_na, na_filter, verbose, skip_blank_lines, parse_dates, infer_datetime_format, keep_date_col, date_parser, date_format, dayfirst, cache_dates, iterator, chunksize, compression, thousands, decimal, lineterminator, quotechar, quoting, doublequote, escapechar, comment, encoding, encoding_errors, dialect, on_bad_lines, delim_whitespace, low_memory, memory_map, float_precision, storage_options, dtype_backend)\u001b[0m\n\u001b[1;32m   1024\u001b[0m     \u001b[0mkwds\u001b[0m\u001b[0;34m.\u001b[0m\u001b[0mupdate\u001b[0m\u001b[0;34m(\u001b[0m\u001b[0mkwds_defaults\u001b[0m\u001b[0;34m)\u001b[0m\u001b[0;34m\u001b[0m\u001b[0;34m\u001b[0m\u001b[0m\n\u001b[1;32m   1025\u001b[0m \u001b[0;34m\u001b[0m\u001b[0m\n\u001b[0;32m-> 1026\u001b[0;31m     \u001b[0;32mreturn\u001b[0m \u001b[0m_read\u001b[0m\u001b[0;34m(\u001b[0m\u001b[0mfilepath_or_buffer\u001b[0m\u001b[0;34m,\u001b[0m \u001b[0mkwds\u001b[0m\u001b[0;34m)\u001b[0m\u001b[0;34m\u001b[0m\u001b[0;34m\u001b[0m\u001b[0m\n\u001b[0m\u001b[1;32m   1027\u001b[0m \u001b[0;34m\u001b[0m\u001b[0m\n\u001b[1;32m   1028\u001b[0m \u001b[0;34m\u001b[0m\u001b[0m\n",
            "\u001b[0;32m/usr/local/lib/python3.11/dist-packages/pandas/io/parsers/readers.py\u001b[0m in \u001b[0;36m_read\u001b[0;34m(filepath_or_buffer, kwds)\u001b[0m\n\u001b[1;32m    618\u001b[0m \u001b[0;34m\u001b[0m\u001b[0m\n\u001b[1;32m    619\u001b[0m     \u001b[0;31m# Create the parser.\u001b[0m\u001b[0;34m\u001b[0m\u001b[0;34m\u001b[0m\u001b[0m\n\u001b[0;32m--> 620\u001b[0;31m     \u001b[0mparser\u001b[0m \u001b[0;34m=\u001b[0m \u001b[0mTextFileReader\u001b[0m\u001b[0;34m(\u001b[0m\u001b[0mfilepath_or_buffer\u001b[0m\u001b[0;34m,\u001b[0m \u001b[0;34m**\u001b[0m\u001b[0mkwds\u001b[0m\u001b[0;34m)\u001b[0m\u001b[0;34m\u001b[0m\u001b[0;34m\u001b[0m\u001b[0m\n\u001b[0m\u001b[1;32m    621\u001b[0m \u001b[0;34m\u001b[0m\u001b[0m\n\u001b[1;32m    622\u001b[0m     \u001b[0;32mif\u001b[0m \u001b[0mchunksize\u001b[0m \u001b[0;32mor\u001b[0m \u001b[0miterator\u001b[0m\u001b[0;34m:\u001b[0m\u001b[0;34m\u001b[0m\u001b[0;34m\u001b[0m\u001b[0m\n",
            "\u001b[0;32m/usr/local/lib/python3.11/dist-packages/pandas/io/parsers/readers.py\u001b[0m in \u001b[0;36m__init__\u001b[0;34m(self, f, engine, **kwds)\u001b[0m\n\u001b[1;32m   1618\u001b[0m \u001b[0;34m\u001b[0m\u001b[0m\n\u001b[1;32m   1619\u001b[0m         \u001b[0mself\u001b[0m\u001b[0;34m.\u001b[0m\u001b[0mhandles\u001b[0m\u001b[0;34m:\u001b[0m \u001b[0mIOHandles\u001b[0m \u001b[0;34m|\u001b[0m \u001b[0;32mNone\u001b[0m \u001b[0;34m=\u001b[0m \u001b[0;32mNone\u001b[0m\u001b[0;34m\u001b[0m\u001b[0;34m\u001b[0m\u001b[0m\n\u001b[0;32m-> 1620\u001b[0;31m         \u001b[0mself\u001b[0m\u001b[0;34m.\u001b[0m\u001b[0m_engine\u001b[0m \u001b[0;34m=\u001b[0m \u001b[0mself\u001b[0m\u001b[0;34m.\u001b[0m\u001b[0m_make_engine\u001b[0m\u001b[0;34m(\u001b[0m\u001b[0mf\u001b[0m\u001b[0;34m,\u001b[0m \u001b[0mself\u001b[0m\u001b[0;34m.\u001b[0m\u001b[0mengine\u001b[0m\u001b[0;34m)\u001b[0m\u001b[0;34m\u001b[0m\u001b[0;34m\u001b[0m\u001b[0m\n\u001b[0m\u001b[1;32m   1621\u001b[0m \u001b[0;34m\u001b[0m\u001b[0m\n\u001b[1;32m   1622\u001b[0m     \u001b[0;32mdef\u001b[0m \u001b[0mclose\u001b[0m\u001b[0;34m(\u001b[0m\u001b[0mself\u001b[0m\u001b[0;34m)\u001b[0m \u001b[0;34m->\u001b[0m \u001b[0;32mNone\u001b[0m\u001b[0;34m:\u001b[0m\u001b[0;34m\u001b[0m\u001b[0;34m\u001b[0m\u001b[0m\n",
            "\u001b[0;32m/usr/local/lib/python3.11/dist-packages/pandas/io/parsers/readers.py\u001b[0m in \u001b[0;36m_make_engine\u001b[0;34m(self, f, engine)\u001b[0m\n\u001b[1;32m   1878\u001b[0m                 \u001b[0;32mif\u001b[0m \u001b[0;34m\"b\"\u001b[0m \u001b[0;32mnot\u001b[0m \u001b[0;32min\u001b[0m \u001b[0mmode\u001b[0m\u001b[0;34m:\u001b[0m\u001b[0;34m\u001b[0m\u001b[0;34m\u001b[0m\u001b[0m\n\u001b[1;32m   1879\u001b[0m                     \u001b[0mmode\u001b[0m \u001b[0;34m+=\u001b[0m \u001b[0;34m\"b\"\u001b[0m\u001b[0;34m\u001b[0m\u001b[0;34m\u001b[0m\u001b[0m\n\u001b[0;32m-> 1880\u001b[0;31m             self.handles = get_handle(\n\u001b[0m\u001b[1;32m   1881\u001b[0m                 \u001b[0mf\u001b[0m\u001b[0;34m,\u001b[0m\u001b[0;34m\u001b[0m\u001b[0;34m\u001b[0m\u001b[0m\n\u001b[1;32m   1882\u001b[0m                 \u001b[0mmode\u001b[0m\u001b[0;34m,\u001b[0m\u001b[0;34m\u001b[0m\u001b[0;34m\u001b[0m\u001b[0m\n",
            "\u001b[0;32m/usr/local/lib/python3.11/dist-packages/pandas/io/common.py\u001b[0m in \u001b[0;36mget_handle\u001b[0;34m(path_or_buf, mode, encoding, compression, memory_map, is_text, errors, storage_options)\u001b[0m\n\u001b[1;32m    871\u001b[0m         \u001b[0;32mif\u001b[0m \u001b[0mioargs\u001b[0m\u001b[0;34m.\u001b[0m\u001b[0mencoding\u001b[0m \u001b[0;32mand\u001b[0m \u001b[0;34m\"b\"\u001b[0m \u001b[0;32mnot\u001b[0m \u001b[0;32min\u001b[0m \u001b[0mioargs\u001b[0m\u001b[0;34m.\u001b[0m\u001b[0mmode\u001b[0m\u001b[0;34m:\u001b[0m\u001b[0;34m\u001b[0m\u001b[0;34m\u001b[0m\u001b[0m\n\u001b[1;32m    872\u001b[0m             \u001b[0;31m# Encoding\u001b[0m\u001b[0;34m\u001b[0m\u001b[0;34m\u001b[0m\u001b[0m\n\u001b[0;32m--> 873\u001b[0;31m             handle = open(\n\u001b[0m\u001b[1;32m    874\u001b[0m                 \u001b[0mhandle\u001b[0m\u001b[0;34m,\u001b[0m\u001b[0;34m\u001b[0m\u001b[0;34m\u001b[0m\u001b[0m\n\u001b[1;32m    875\u001b[0m                 \u001b[0mioargs\u001b[0m\u001b[0;34m.\u001b[0m\u001b[0mmode\u001b[0m\u001b[0;34m,\u001b[0m\u001b[0;34m\u001b[0m\u001b[0;34m\u001b[0m\u001b[0m\n",
            "\u001b[0;31mFileNotFoundError\u001b[0m: [Errno 2] No such file or directory: 'dataset/data/sub_05/rec_3.csv'"
          ]
        }
      ],
      "source": [
        "s_05_03 = pd.read_csv(\"dataset/data/sub_05/rec_3.csv\")\n",
        "s_05_03"
      ]
    },
    {
      "cell_type": "markdown",
      "id": "affbb323-028b-4201-bfc3-038af9df3661",
      "metadata": {
        "id": "affbb323-028b-4201-bfc3-038af9df3661"
      },
      "source": [
        "### Correlación entre datos\n",
        "Echad un ojo a cómo están correlacionados los datos entre sí, pero usad un número limitado de columnas para que podamos estudiar el gráfico adecuadamente (18, por ejemplo)."
      ]
    },
    {
      "cell_type": "code",
      "execution_count": null,
      "id": "a1ceac06-5613-405e-9995-2739c627915f",
      "metadata": {
        "id": "a1ceac06-5613-405e-9995-2739c627915f"
      },
      "outputs": [],
      "source": []
    },
    {
      "cell_type": "markdown",
      "id": "9c0f99ac-ae63-4080-a0bd-1771c67a9ea7",
      "metadata": {
        "id": "9c0f99ac-ae63-4080-a0bd-1771c67a9ea7"
      },
      "source": [
        "Hay un patrón curioso en los datos y es que todos las coordnadas en sus respectivos ejes están muy correlacionados entre sí. Aquí hay 2 posibles conclusiones:\n",
        "\n",
        "* Asumir que hay información redundante y que podemos cargarnos muchas de las columnas.\n",
        "* Entender lo que significan los datos y darse cuenta que la posición global de los puntos influye más que el movimiento relativo.\n",
        "\n",
        "Os voy adelantando que es el segundo caso y que es posible eliminar esas correlaciones sin eliminar información. Para ello, la clave es restar la posición de la pelvis al del resto de posiciones, ya que esta representa la posición general del cuerpo."
      ]
    },
    {
      "cell_type": "code",
      "execution_count": null,
      "id": "a102ea48-993e-4f45-8402-82cd44884c8a",
      "metadata": {
        "id": "a102ea48-993e-4f45-8402-82cd44884c8a"
      },
      "outputs": [],
      "source": [
        "# Resta la posición de la pelvis al del resto de elementos\n",
        "# y comprueba de nuevo cómo son las correlaciones\n",
        "resta = s_05_03.copy()\n",
        "#resta.iloc[:,3,-3:3] -= s_05_03.iloc[:,0:1].to_numpy()\n",
        "#resta.iloc[:,4,-3:3] -= s_05_03.iloc[:,1:2].to_numpy()\n",
        "#resta.iloc[:,5,-3:3] -= s_05_03.iloc[:,2:3].to_numpy()\n",
        "\n",
        "for i in range(3)\n",
        "  resta.iloc[:,1+3,-3:3] -= s_05_03.iloc[:,i:i+1].to_numpy()\n",
        "\n",
        "#resta_x = s_05_03.iloc[:,3:-3:3] - s_05_03.iloc[:, 0:1].to_numpy()\n",
        "#la muñeca y el codo están relacionados porque si mueves el codo mueves la muñeca"
      ]
    },
    {
      "cell_type": "markdown",
      "id": "bcdceef7-da44-47cd-9b23-6a0e7e2fc05d",
      "metadata": {
        "id": "bcdceef7-da44-47cd-9b23-6a0e7e2fc05d"
      },
      "source": [
        "Como puede verse todavía hay elementos que están muy correlacionados entre sí. Eso se debe a que las posiciones de cada articulación del cuerpo depende de otra articulación previa que la mueve. Es posible eliminar todas esas correlaciones usando la misma estrategia que con la pelvis, pero para este caso, ya tenemos suficiente información. Aún así, os lo planteo como reto para hacer una limpieza más fina de los datos. Ahora podríamos plantear eliminar columnas muy correlacionadas entre sí, pero lo dejaremos para una fase posterior."
      ]
    },
    {
      "cell_type": "markdown",
      "id": "2a23e68e-7d64-4d8e-aecc-aa4bae225772",
      "metadata": {
        "id": "2a23e68e-7d64-4d8e-aecc-aa4bae225772"
      },
      "source": [
        "### Visualización de los datos\n",
        "Hay muchos elementos interesantes a visualizar así, vamos a empezar con la trayectoria que sigue el movimiento general representado por la pelvis."
      ]
    },
    {
      "cell_type": "code",
      "execution_count": null,
      "id": "4877a26d-32a6-4626-8b11-b78e3fa29998",
      "metadata": {
        "id": "4877a26d-32a6-4626-8b11-b78e3fa29998"
      },
      "outputs": [],
      "source": []
    },
    {
      "cell_type": "markdown",
      "id": "c9bcdfe5-d5f8-46eb-aa04-eccd2b4171aa",
      "metadata": {
        "id": "c9bcdfe5-d5f8-46eb-aa04-eccd2b4171aa"
      },
      "source": [
        "Ahora vamos a definir una función que nos permita graficar la posición tridimensional de los puntos a partir de los datos básicos previamente a la eliminación de las correlaciones. La definición de la función debería ser la siguiente:\n",
        "\n",
        "*def plot_frame(data: pd.DataFrame, i_frame: int) -> (matplotlib.figure.Figure, matplotlib.axes.Axes)*\n",
        "\n",
        "Nota: Los valores devuletos corresponden a una figura y unos ejes donde se pintará el resultado. Es conveniente evitar usar plt.show() en la función para luego poder combinar varias si lo necesitamos.\n",
        "\n",
        "Ten en cuenta que las últimas 3 coordenadas corresponden a la velocidad y que no será relevante en esta gráfica. También considera que para visualizarlo adecuadamente necesitarás que la escala sea la misma en los 3 ejes. A partir de esta idea, se puede elaborar para graficar animaciones. El problema de las animaciones es que se tardan bastante en ver y no se puede visualizar del tirón varios segmentos."
      ]
    },
    {
      "cell_type": "code",
      "execution_count": null,
      "id": "7ee6a4c6-5aeb-4f8a-ba17-64e710413d6c",
      "metadata": {
        "id": "7ee6a4c6-5aeb-4f8a-ba17-64e710413d6c"
      },
      "outputs": [],
      "source": [
        "def plot_frame(data, i_frame = 0):\n",
        "    fig = plt.figure()\n",
        "    ax = fig.add_subplot(projection='3d')\n",
        "\n",
        "    return fig, ax\n",
        "\n",
        "fig, ax =  plot_frame(s_05_03, 130)\n",
        "plt.show()"
      ]
    },
    {
      "cell_type": "markdown",
      "id": "60f41eb4-0ea1-4286-96b8-4c671fe3bb31",
      "metadata": {
        "id": "60f41eb4-0ea1-4286-96b8-4c671fe3bb31"
      },
      "source": [
        "Vale, ese gráfico está muy bien, pero no resulta muy útil para ver cómo se ha movido exactamente una articulación. Ahora intentaremos mostrar eso, también en 3D, pero en vez de enseñar una línea de puntos. Para ello será necesario definir la siguiente función:\n",
        "\n",
        "*def plot_joint(data: pd.DataFrame, i_joint: int) -> (matplotlib.figure.Figure, matplotlib.axes.Axes)*"
      ]
    },
    {
      "cell_type": "code",
      "execution_count": null,
      "id": "952e39cc-ced3-4776-b133-bcde200046b2",
      "metadata": {
        "id": "952e39cc-ced3-4776-b133-bcde200046b2"
      },
      "outputs": [],
      "source": [
        "def plot_joint(data, joint_i):\n",
        "    fig = plt.figure()\n",
        "    ax = fig.add_subplot(projection='3d')\n",
        "\n",
        "    return fig, ax\n",
        "\n"
      ]
    },
    {
      "cell_type": "markdown",
      "id": "bd4e770a-42e6-4dcb-aef7-b5e173a16e3c",
      "metadata": {
        "id": "bd4e770a-42e6-4dcb-aef7-b5e173a16e3c"
      },
      "source": [
        "## Ventaneo\n",
        "Una normalización importante de los datos, es asegurarse que todos tengan el mismo formato. En este caso pretendemos que se separen en segmentos con la misma duración, específicamente de 4 segundos. Para poder aplicarlo apropiadamente a otras grabaciones, define una función que haga este ventaneo. Piensa en qué parámetros debería recibir."
      ]
    },
    {
      "cell_type": "code",
      "execution_count": null,
      "id": "19d08b31-194c-4677-82e4-f6558b2f646c",
      "metadata": {
        "id": "19d08b31-194c-4677-82e4-f6558b2f646c"
      },
      "outputs": [],
      "source": [
        "freq =60\n",
        "segundos = 4\n",
        "ventana = freq*segundos\n",
        "a=[]\n",
        "for i in range(0,len(resta)-ventana+1, ventana):\n",
        "  a.append(resta.iloc[i:i+ventana])"
      ]
    },
    {
      "cell_type": "markdown",
      "id": "bb88ff19-4e8b-43d1-83c9-5662de806357",
      "metadata": {
        "id": "bb88ff19-4e8b-43d1-83c9-5662de806357"
      },
      "source": [
        "## Extracción de características\n",
        "Una vez están definidas las ventanas, el siguiente paso consiste en calcular métricas que puedan resultarnos de utilidad para resumir la señal. Existen muchas muy útiles que os invito a buscar, aunque para este ejemplo queremos las siguientes:\n",
        "\n",
        "* Media\n",
        "* Desviación típica\n",
        "* [Energía de la señal](https://en.wikipedia.org/wiki/Energy_(signal_processing)\n",
        "\n",
        "Es importante tener en cuenta sobre qué eje hay que aplicar las fórmulas."
      ]
    },
    {
      "cell_type": "code",
      "execution_count": null,
      "id": "9592bd1c-e49c-4297-bf1e-32cfc29afc23",
      "metadata": {
        "id": "9592bd1c-e49c-4297-bf1e-32cfc29afc23"
      },
      "outputs": [],
      "source": []
    },
    {
      "cell_type": "markdown",
      "id": "b3ba85b4-521b-4377-90a4-6ade79179f68",
      "metadata": {
        "id": "b3ba85b4-521b-4377-90a4-6ade79179f68"
      },
      "source": [
        "Con esto, ya tendríamos preparadas las piezas básicas para montar el puzzle, solo nos queda llevar a cabo la carga para cada participante."
      ]
    },
    {
      "cell_type": "markdown",
      "id": "11ecd8e3-dbe4-43d6-a519-c271d61567fa",
      "metadata": {
        "id": "11ecd8e3-dbe4-43d6-a519-c271d61567fa"
      },
      "source": [
        "## Carga y combinación de ficheros\n",
        "Ahora carga todos los ficheros y combínalos en uno solo manteniendo la información sobre a qué participante grabación corresponden. Te recomiendo investigar las funciones de la librería os que incluye Python para ver funciones que listen automáticamente los ficheros de una carpeta."
      ]
    },
    {
      "cell_type": "code",
      "execution_count": null,
      "id": "76d167c7-f386-477b-9d3a-f20b162afec8",
      "metadata": {
        "id": "76d167c7-f386-477b-9d3a-f20b162afec8"
      },
      "outputs": [],
      "source": []
    },
    {
      "cell_type": "markdown",
      "id": "560a53a5-2d10-4743-a6a5-a9db2518ef17",
      "metadata": {
        "id": "560a53a5-2d10-4743-a6a5-a9db2518ef17"
      },
      "source": [
        "### Normalización por participante\n",
        "Esto es importante hacerlo para descartar el efecto de las diferentes dimensiones de cada persona en los resultados, ya que lo que queremos hacer es estudiar los tipos de movimiento como tal."
      ]
    },
    {
      "cell_type": "code",
      "execution_count": null,
      "id": "86c07116-28ac-4888-9f12-6e2158f69971",
      "metadata": {
        "id": "86c07116-28ac-4888-9f12-6e2158f69971"
      },
      "outputs": [],
      "source": []
    },
    {
      "cell_type": "markdown",
      "id": "26d2ba24-ac76-4414-beda-8cff4407f220",
      "metadata": {
        "id": "26d2ba24-ac76-4414-beda-8cff4407f220"
      },
      "source": [
        "## Juntar todo\n",
        "El último paso será utilizar todos los conocimientos desarrollados durante este notebook y combinarlos para realizar el prcoesamiento previo necesario para la segunda práctica."
      ]
    }
  ],
  "metadata": {
    "colab": {
      "provenance": [],
      "toc_visible": true
    },
    "kernelspec": {
      "display_name": "Python 3",
      "language": "python",
      "name": "python3"
    },
    "language_info": {
      "codemirror_mode": {
        "name": "ipython",
        "version": 3
      },
      "file_extension": ".py",
      "mimetype": "text/x-python",
      "name": "python",
      "nbconvert_exporter": "python",
      "pygments_lexer": "ipython3",
      "version": "3.10.0"
    }
  },
  "nbformat": 4,
  "nbformat_minor": 5
}
