{
 "cells": [
  {
   "cell_type": "markdown",
   "id": "fc12445b",
   "metadata": {},
   "source": [
    "Prueba de progreso 2"
   ]
  },
  {
   "cell_type": "markdown",
   "id": "b627a8b4",
   "metadata": {},
   "source": [
    "Imports"
   ]
  },
  {
   "cell_type": "code",
   "execution_count": null,
   "id": "e4d9d002",
   "metadata": {},
   "outputs": [],
   "source": [
    "import os\n",
    "import pandas as pd\n",
    "import numpy as np\n",
    "from sklearn.preprocessing import StandardScaler\n",
    "from sklearn.decomposition import PCA\n",
    "from sklearn.cluster import KMeans\n",
    "import matplotlib.pyplot as plt\n",
    "import seaborn as sns\n",
    "import glob"
   ]
  },
  {
   "cell_type": "markdown",
   "id": "5c55526d",
   "metadata": {},
   "source": [
    "Carga de datos"
   ]
  },
  {
   "cell_type": "code",
   "execution_count": null,
   "id": "d4d15197",
   "metadata": {},
   "outputs": [],
   "source": [
    "def cargar_datos(ruta_base):\n",
    "    datos_completos = []\n",
    "    for persona_id in os.listdir(ruta_base):\n",
    "        carpeta_persona = os.path.join(ruta_base, persona_id)\n",
    "        if not os.path.isdir(carpeta_persona):\n",
    "            continue\n",
    "        for archivo in glob.glob(os.path.join(carpeta_persona, '*.csv')):\n",
    "            df = pd.read_csv(archivo)\n",
    "            df['persona_id'] = persona_id\n",
    "            df['ruta_id'] = os.path.basename(archivo).split('.')[0]\n",
    "            datos_completos.append(df)\n",
    "    return pd.concat(datos_completos, ignore_index=True)"
   ]
  },
  {
   "cell_type": "markdown",
   "id": "766a40ad",
   "metadata": {},
   "source": [
    "Preprocesamiento"
   ]
  },
  {
   "cell_type": "markdown",
   "id": "bda3038e",
   "metadata": {},
   "source": [
    "#Eliminar la correlación general con la pelvis"
   ]
  },
  {
   "cell_type": "code",
   "execution_count": null,
   "id": "a2a32c79",
   "metadata": {},
   "outputs": [],
   "source": [
    "def restar_pelvis(df):\n",
    "    columnas = [col for col in df.columns if any(eje in col for eje in ['X', 'Y', 'Z']) and 'pelvis' not in col]\n",
    "    for eje in ['X', 'Y', 'Z']:\n",
    "        pelvis_col = f'pelvis_{eje}'\n",
    "        for col in columnas:\n",
    "            if col.endswith(eje):\n",
    "                df[col] = df[col] - df[pelvis_col]\n",
    "    return df"
   ]
  },
  {
   "cell_type": "markdown",
   "id": "e8cd511b",
   "metadata": {},
   "source": [
    "#Ventaneo"
   ]
  },
  {
   "cell_type": "code",
   "execution_count": null,
   "id": "c6334d04",
   "metadata": {},
   "outputs": [],
   "source": [
    "def segmentar_ventanas(df, tam_ventana=240):\n",
    "    ventanas = []\n",
    "    for (persona, ruta), grupo in df.groupby(['persona_id', 'ruta_id']):\n",
    "        n = len(grupo)\n",
    "        for i in range(0, n - tam_ventana + 1, tam_ventana):\n",
    "            ventana = grupo.iloc[i:i+tam_ventana].copy()\n",
    "            ventana['ventana_id'] = f'{persona}_{ruta}_{i//tam_ventana}'\n",
    "            ventanas.append(ventana)\n",
    "    return ventanas"
   ]
  },
  {
   "cell_type": "markdown",
   "id": "f0dedf60",
   "metadata": {},
   "source": [
    "#Normalización por persona y por ventana"
   ]
  },
  {
   "cell_type": "code",
   "execution_count": null,
   "id": "2e8f7572",
   "metadata": {},
   "outputs": [],
   "source": [
    "def normalizar_ventana(ventana):\n",
    "    columnas_xyz = [col for col in ventana.columns if any(col.endswith(eje) for eje in ['X', 'Y', 'Z'])]\n",
    "    scaler = StandardScaler()\n",
    "    ventana[columns_xyz] = scaler.fit_transform(ventana[columns_xyz])\n",
    "    return ventana"
   ]
  },
  {
   "cell_type": "markdown",
   "id": "bd63f663",
   "metadata": {},
   "source": [
    "Extracción de Características"
   ]
  },
  {
   "cell_type": "code",
   "execution_count": null,
   "id": "7224980b",
   "metadata": {},
   "outputs": [],
   "source": [
    "def extraer_caracteristicas(ventana):\n",
    "    features = {}\n",
    "    articulaciones = set(col[:-2] for col in ventana.columns if '_' in col and col[:-2] != 'pelvis')\n",
    "    for art in articulaciones:\n",
    "        for eje in ['X', 'Y', 'Z']:\n",
    "            col = f'{art}_{eje}'\n",
    "            señal = ventana[col].values\n",
    "            features[f'{art}_{eje}_media'] = np.mean(señal)\n",
    "            features[f'{art}_{eje}_std'] = np.std(señal)\n",
    "            features[f'{art}_{eje}_min'] = np.min(señal)\n",
    "            features[f'{art}_{eje}_max'] = np.max(señal)\n",
    "            features[f'{art}_{eje}_energia'] = np.sum(señal**2)\n",
    "    features['ventana_id'] = ventana['ventana_id'].iloc[0]\n",
    "    return features"
   ]
  },
  {
   "cell_type": "markdown",
   "id": "f4b955f7",
   "metadata": {},
   "source": [
    "Pipeline General"
   ]
  },
  {
   "cell_type": "code",
   "execution_count": null,
   "id": "96ad6b77",
   "metadata": {},
   "outputs": [],
   "source": [
    "def procesar_todo(ruta_base):\n",
    "    df = cargar_datos(ruta_base)\n",
    "    df = restar_pelvis(df)\n",
    "    ventanas = segmentar_ventanas(df)\n",
    "    ventanas = [normalizar_ventana(v) for v in ventanas]\n",
    "    caracteristicas = [extraer_caracteristicas(v) for v in ventanas]\n",
    "    return pd.DataFrame(caracteristicas)"
   ]
  },
  {
   "cell_type": "markdown",
   "id": "aa244803",
   "metadata": {},
   "source": [
    "Clustering y Visualización"
   ]
  },
  {
   "cell_type": "code",
   "execution_count": null,
   "id": "f27dd9e6",
   "metadata": {},
   "outputs": [],
   "source": [
    "def clustering_y_visualizacion(df_features, n_clusters=5):\n",
    "    X = df_features.drop(columns=['ventana_id'])\n",
    "    pca = PCA(n_components=2)\n",
    "    X_pca = pca.fit_transform(X)\n",
    "    \n",
    "    kmeans = KMeans(n_clusters=n_clusters, random_state=42)\n",
    "    labels = kmeans.fit_predict(X)\n",
    "    \n",
    "    plt.figure(figsize=(10, 6))\n",
    "    sns.scatterplot(x=X_pca[:,0], y=X_pca[:,1], hue=labels, palette='Set2')\n",
    "    plt.title(\"Clustering de Ventanas de Movimiento Humano (PCA)\")\n",
    "    plt.xlabel(\"Componente Principal 1\")\n",
    "    plt.ylabel(\"Componente Principal 2\")\n",
    "    plt.legend(title=\"Cluster\")\n",
    "    plt.show()\n",
    "\n",
    "    df_features['cluster'] = labels\n",
    "    return df_features"
   ]
  }
 ],
 "metadata": {
  "language_info": {
   "name": "python"
  }
 },
 "nbformat": 4,
 "nbformat_minor": 5
}
