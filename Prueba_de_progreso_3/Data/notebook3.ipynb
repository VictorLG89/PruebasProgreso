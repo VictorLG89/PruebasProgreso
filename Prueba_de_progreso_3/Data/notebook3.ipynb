{
 "cells": [
  {
   "cell_type": "markdown",
   "id": "1b18cba9",
   "metadata": {},
   "source": [
    "# Imports"
   ]
  },
  {
   "cell_type": "code",
   "execution_count": 10,
   "id": "fcdf239f",
   "metadata": {},
   "outputs": [],
   "source": [
    "import numpy as np\n",
    "import pandas as pd\n",
    "import matplotlib.pyplot as plt\n",
    "from io import StringIO\n",
    "import os \n",
    "import seaborn as sns\n",
    "import mne  # Muy útil para EEG\n",
    "from sklearn.preprocessing import StandardScaler\n",
    "from sklearn.model_selection import train_test_split, cross_val_score\n",
    "from sklearn.ensemble import RandomForestClassifier\n",
    "from sklearn.metrics import classification_report, confusion_matrix\n",
    "import antropy as ant\n",
    "from sklearn.svm import SVC\n",
    "from sklearn.neighbors import KNeighborsClassifier\n",
    "from sklearn.metrics import precision_score, recall_score, f1_score\n",
    "from sklearn.decomposition import PCA\n",
    "from sklearn.metrics import accuracy_score\n",
    "\n"
   ]
  },
  {
   "cell_type": "markdown",
   "id": "f966a2ff",
   "metadata": {},
   "source": [
    "# Carga de datos"
   ]
  },
  {
   "cell_type": "code",
   "execution_count": 19,
   "id": "e803c108",
   "metadata": {},
   "outputs": [
    {
     "name": "stdout",
     "output_type": "stream",
     "text": [
      "EEG combinado con nombres actualizados:\n",
      "   timestamp           F4            Oz            Fz            F8  \\\n",
      "0   0.045299  2327.497887  14123.593249  19397.060884  15709.190157   \n",
      "1   0.049206  2370.036155  14146.383345  19430.449044  15774.822714   \n",
      "2   0.053112  2344.581333  14114.430973  19402.548515  15743.916764   \n",
      "3   0.057018  2391.159277  14158.879570  19451.718178  15794.388370   \n",
      "4   0.060925  2308.747466  14097.809899  19366.471294  15694.175219   \n",
      "\n",
      "            Pz            F5            T5           T3            C4  \\\n",
      "0  3360.109478  17359.494877  23611.987567  9074.315427  19640.499994   \n",
      "1  3389.786490  17380.532825  23620.748308  9078.987823  19665.455941   \n",
      "2  3350.107631  17357.085673  23599.345330  9150.229688  19653.215238   \n",
      "3  3394.349377  17409.504111  23619.896570  9195.578694  19687.540310   \n",
      "4  3320.880823  17326.848947  23567.526802  8976.560151  19600.456104   \n",
      "\n",
      "             C3            T4            P4            T6           Cz  \\\n",
      "0  25970.245391  19613.512043  18377.614741  41584.637022  4924.400749   \n",
      "1  25989.373010  19676.954414  18387.908613  41578.565341  4941.642375   \n",
      "2  25947.868997  19662.937227  18372.759830  41565.472900  4912.379064   \n",
      "3  25997.148169  19734.106086  18416.052495  41611.770986  4955.343202   \n",
      "4  25918.922046  19545.385108  18327.179638  41491.724489  4875.231086   \n",
      "\n",
      "             P3            F7 source_file  \n",
      "0  14303.857677  19162.930062   EEG_1.csv  \n",
      "1  14330.991641  19149.594266   EEG_1.csv  \n",
      "2  14283.038748  19140.602338   EEG_1.csv  \n",
      "3  14307.653999  19206.514752   EEG_1.csv  \n",
      "4  14239.879927  19117.082180   EEG_1.csv  \n",
      "EEG combinado:\n",
      "   timestamp           F4            Oz            Fz            F8  \\\n",
      "0   0.045299  2327.497887  14123.593249  19397.060884  15709.190157   \n",
      "1   0.049206  2370.036155  14146.383345  19430.449044  15774.822714   \n",
      "2   0.053112  2344.581333  14114.430973  19402.548515  15743.916764   \n",
      "3   0.057018  2391.159277  14158.879570  19451.718178  15794.388370   \n",
      "4   0.060925  2308.747466  14097.809899  19366.471294  15694.175219   \n",
      "\n",
      "            Pz            F5            T5           T3            C4  \\\n",
      "0  3360.109478  17359.494877  23611.987567  9074.315427  19640.499994   \n",
      "1  3389.786490  17380.532825  23620.748308  9078.987823  19665.455941   \n",
      "2  3350.107631  17357.085673  23599.345330  9150.229688  19653.215238   \n",
      "3  3394.349377  17409.504111  23619.896570  9195.578694  19687.540310   \n",
      "4  3320.880823  17326.848947  23567.526802  8976.560151  19600.456104   \n",
      "\n",
      "             C3            T4            P4            T6           Cz  \\\n",
      "0  25970.245391  19613.512043  18377.614741  41584.637022  4924.400749   \n",
      "1  25989.373010  19676.954414  18387.908613  41578.565341  4941.642375   \n",
      "2  25947.868997  19662.937227  18372.759830  41565.472900  4912.379064   \n",
      "3  25997.148169  19734.106086  18416.052495  41611.770986  4955.343202   \n",
      "4  25918.922046  19545.385108  18327.179638  41491.724489  4875.231086   \n",
      "\n",
      "             P3            F7 source_file  \n",
      "0  14303.857677  19162.930062   EEG_1.csv  \n",
      "1  14330.991641  19149.594266   EEG_1.csv  \n",
      "2  14283.038748  19140.602338   EEG_1.csv  \n",
      "3  14307.653999  19206.514752   EEG_1.csv  \n",
      "4  14239.879927  19117.082180   EEG_1.csv  \n",
      "\n",
      "NBack combinado:\n",
      "        Time  Event Code  Notes  source_file\n",
      "0  17.921582           1    1.0  NBack_1.csv\n",
      "1  20.567397           5    6.0  NBack_1.csv\n",
      "2  23.127966           5    2.0  NBack_1.csv\n",
      "3  25.646424           5    9.0  NBack_1.csv\n",
      "4  28.122818           5    1.0  NBack_1.csv\n"
     ]
    }
   ],
   "source": [
    "# Ruta de las carpetas\n",
    "channels_file = 'Data/channels.csv'\n",
    "eeg_folder = 'Data/NBack/'\n",
    "\n",
    "# Combinar todos los archivos EEG\n",
    "all_eeg = []\n",
    "eeg_files = [f for f in os.listdir(eeg_folder) if f.startswith('EEG_') and f.endswith('.csv')]\n",
    "\n",
    "for eeg_file in eeg_files:\n",
    "    with open(os.path.join(eeg_folder, eeg_file), 'r') as file:\n",
    "        lines = file.readlines()\n",
    "    lines[0] = lines[0].lstrip(',')  # Eliminar la coma inicial de la primera línea\n",
    "    eeg_data = pd.read_csv(StringIO(''.join(lines)))\n",
    "    eeg_data['source_file'] = eeg_file  # Agregar columna para identificar el archivo de origen\n",
    "    all_eeg.append(eeg_data)\n",
    "\n",
    "combined_eeg = pd.concat(all_eeg, ignore_index=True)\n",
    "\n",
    "# Combinar todos los archivos NBack\n",
    "all_nback = []\n",
    "nback_files = [f for f in os.listdir(eeg_folder) if f.startswith('NBack_') and f.endswith('.csv')]\n",
    "\n",
    "for nback_file in nback_files:\n",
    "    nback_data = pd.read_csv(os.path.join(eeg_folder, nback_file))\n",
    "    nback_data['source_file'] = nback_file  # Agregar columna para identificar el archivo de origen\n",
    "    all_nback.append(nback_data)\n",
    "\n",
    "combined_nback = pd.concat(all_nback, ignore_index=True)\n",
    "\n",
    "# Leer los nombres de los canales desde el archivo channels.csv\n",
    "channels = ['timestamp'] + pd.read_csv(channels_file, header=None).iloc[0].tolist()\n",
    "\n",
    "# Cambiar los nombres de las columnas del DataFrame combinado de EEG\n",
    "combined_eeg.columns = channels + ['source_file']  # Mantener la columna 'source_file' al final\n",
    "\n",
    "# Mostrar un resumen del DataFrame combinado con los nuevos nombres de columnas\n",
    "print(\"EEG combinado con nombres actualizados:\")\n",
    "print(combined_eeg.head())\n",
    "\n",
    "# Opcional: Guardar los DataFrames combinados en archivos CSV\n",
    "# combined_eeg.to_csv('combined_eeg.csv', index=False)\n",
    "# combined_nback.to_csv('combined_nback.csv', index=False)\n",
    "\n",
    "# Mostrar un resumen de los datos combinados\n",
    "print(\"EEG combinado:\")\n",
    "print(combined_eeg.head())\n",
    "print(\"\\nNBack combinado:\")\n",
    "print(combined_nback.head())"
   ]
  },
  {
   "cell_type": "markdown",
   "id": "93de68f0",
   "metadata": {},
   "source": [
    "# Segmentación por ventanas deslizantes"
   ]
  },
  {
   "cell_type": "code",
   "execution_count": 9,
   "id": "b8dc725c",
   "metadata": {},
   "outputs": [
    {
     "ename": "KeyError",
     "evalue": "1",
     "output_type": "error",
     "traceback": [
      "\u001b[1;31m---------------------------------------------------------------------------\u001b[0m",
      "\u001b[1;31mKeyError\u001b[0m                                  Traceback (most recent call last)",
      "File \u001b[1;32m~\\AppData\\Roaming\\Python\\Python310\\site-packages\\pandas\\core\\indexes\\base.py:3805\u001b[0m, in \u001b[0;36mIndex.get_loc\u001b[1;34m(self, key)\u001b[0m\n\u001b[0;32m   3804\u001b[0m \u001b[38;5;28;01mtry\u001b[39;00m:\n\u001b[1;32m-> 3805\u001b[0m     \u001b[38;5;28;01mreturn\u001b[39;00m \u001b[38;5;28;43mself\u001b[39;49m\u001b[38;5;241;43m.\u001b[39;49m\u001b[43m_engine\u001b[49m\u001b[38;5;241;43m.\u001b[39;49m\u001b[43mget_loc\u001b[49m\u001b[43m(\u001b[49m\u001b[43mcasted_key\u001b[49m\u001b[43m)\u001b[49m\n\u001b[0;32m   3806\u001b[0m \u001b[38;5;28;01mexcept\u001b[39;00m \u001b[38;5;167;01mKeyError\u001b[39;00m \u001b[38;5;28;01mas\u001b[39;00m err:\n",
      "File \u001b[1;32mindex.pyx:167\u001b[0m, in \u001b[0;36mpandas._libs.index.IndexEngine.get_loc\u001b[1;34m()\u001b[0m\n",
      "File \u001b[1;32mindex.pyx:196\u001b[0m, in \u001b[0;36mpandas._libs.index.IndexEngine.get_loc\u001b[1;34m()\u001b[0m\n",
      "File \u001b[1;32mpandas\\\\_libs\\\\hashtable_class_helper.pxi:7081\u001b[0m, in \u001b[0;36mpandas._libs.hashtable.PyObjectHashTable.get_item\u001b[1;34m()\u001b[0m\n",
      "File \u001b[1;32mpandas\\\\_libs\\\\hashtable_class_helper.pxi:7089\u001b[0m, in \u001b[0;36mpandas._libs.hashtable.PyObjectHashTable.get_item\u001b[1;34m()\u001b[0m\n",
      "\u001b[1;31mKeyError\u001b[0m: 1",
      "\nThe above exception was the direct cause of the following exception:\n",
      "\u001b[1;31mKeyError\u001b[0m                                  Traceback (most recent call last)",
      "Cell \u001b[1;32mIn[9], line 9\u001b[0m\n\u001b[0;32m      6\u001b[0m labels \u001b[38;5;241m=\u001b[39m []\n\u001b[0;32m      8\u001b[0m \u001b[38;5;66;03m# Ejemplo: agrupar por bloques con mismo nivel de n-back (evento código 4)\u001b[39;00m\n\u001b[1;32m----> 9\u001b[0m nback_blocks \u001b[38;5;241m=\u001b[39m events[\u001b[43mevents\u001b[49m\u001b[43m[\u001b[49m\u001b[38;5;241;43m1\u001b[39;49m\u001b[43m]\u001b[49m \u001b[38;5;241m==\u001b[39m \u001b[38;5;241m4\u001b[39m]\n\u001b[0;32m     11\u001b[0m \u001b[38;5;28;01mfor\u001b[39;00m i \u001b[38;5;129;01min\u001b[39;00m \u001b[38;5;28mrange\u001b[39m(\u001b[38;5;28mlen\u001b[39m(nback_blocks) \u001b[38;5;241m-\u001b[39m \u001b[38;5;241m1\u001b[39m):\n\u001b[0;32m     12\u001b[0m     n_val \u001b[38;5;241m=\u001b[39m \u001b[38;5;28mint\u001b[39m(events\u001b[38;5;241m.\u001b[39miloc[nback_blocks\u001b[38;5;241m.\u001b[39mindex[i], \u001b[38;5;241m2\u001b[39m])\n",
      "File \u001b[1;32m~\\AppData\\Roaming\\Python\\Python310\\site-packages\\pandas\\core\\frame.py:4102\u001b[0m, in \u001b[0;36mDataFrame.__getitem__\u001b[1;34m(self, key)\u001b[0m\n\u001b[0;32m   4100\u001b[0m \u001b[38;5;28;01mif\u001b[39;00m \u001b[38;5;28mself\u001b[39m\u001b[38;5;241m.\u001b[39mcolumns\u001b[38;5;241m.\u001b[39mnlevels \u001b[38;5;241m>\u001b[39m \u001b[38;5;241m1\u001b[39m:\n\u001b[0;32m   4101\u001b[0m     \u001b[38;5;28;01mreturn\u001b[39;00m \u001b[38;5;28mself\u001b[39m\u001b[38;5;241m.\u001b[39m_getitem_multilevel(key)\n\u001b[1;32m-> 4102\u001b[0m indexer \u001b[38;5;241m=\u001b[39m \u001b[38;5;28;43mself\u001b[39;49m\u001b[38;5;241;43m.\u001b[39;49m\u001b[43mcolumns\u001b[49m\u001b[38;5;241;43m.\u001b[39;49m\u001b[43mget_loc\u001b[49m\u001b[43m(\u001b[49m\u001b[43mkey\u001b[49m\u001b[43m)\u001b[49m\n\u001b[0;32m   4103\u001b[0m \u001b[38;5;28;01mif\u001b[39;00m is_integer(indexer):\n\u001b[0;32m   4104\u001b[0m     indexer \u001b[38;5;241m=\u001b[39m [indexer]\n",
      "File \u001b[1;32m~\\AppData\\Roaming\\Python\\Python310\\site-packages\\pandas\\core\\indexes\\base.py:3812\u001b[0m, in \u001b[0;36mIndex.get_loc\u001b[1;34m(self, key)\u001b[0m\n\u001b[0;32m   3807\u001b[0m     \u001b[38;5;28;01mif\u001b[39;00m \u001b[38;5;28misinstance\u001b[39m(casted_key, \u001b[38;5;28mslice\u001b[39m) \u001b[38;5;129;01mor\u001b[39;00m (\n\u001b[0;32m   3808\u001b[0m         \u001b[38;5;28misinstance\u001b[39m(casted_key, abc\u001b[38;5;241m.\u001b[39mIterable)\n\u001b[0;32m   3809\u001b[0m         \u001b[38;5;129;01mand\u001b[39;00m \u001b[38;5;28many\u001b[39m(\u001b[38;5;28misinstance\u001b[39m(x, \u001b[38;5;28mslice\u001b[39m) \u001b[38;5;28;01mfor\u001b[39;00m x \u001b[38;5;129;01min\u001b[39;00m casted_key)\n\u001b[0;32m   3810\u001b[0m     ):\n\u001b[0;32m   3811\u001b[0m         \u001b[38;5;28;01mraise\u001b[39;00m InvalidIndexError(key)\n\u001b[1;32m-> 3812\u001b[0m     \u001b[38;5;28;01mraise\u001b[39;00m \u001b[38;5;167;01mKeyError\u001b[39;00m(key) \u001b[38;5;28;01mfrom\u001b[39;00m\u001b[38;5;250m \u001b[39m\u001b[38;5;21;01merr\u001b[39;00m\n\u001b[0;32m   3813\u001b[0m \u001b[38;5;28;01mexcept\u001b[39;00m \u001b[38;5;167;01mTypeError\u001b[39;00m:\n\u001b[0;32m   3814\u001b[0m     \u001b[38;5;66;03m# If we have a listlike key, _check_indexing_error will raise\u001b[39;00m\n\u001b[0;32m   3815\u001b[0m     \u001b[38;5;66;03m#  InvalidIndexError. Otherwise we fall through and re-raise\u001b[39;00m\n\u001b[0;32m   3816\u001b[0m     \u001b[38;5;66;03m#  the TypeError.\u001b[39;00m\n\u001b[0;32m   3817\u001b[0m     \u001b[38;5;28mself\u001b[39m\u001b[38;5;241m.\u001b[39m_check_indexing_error(key)\n",
      "\u001b[1;31mKeyError\u001b[0m: 1"
     ]
    }
   ],
   "source": [
    "fs = 256  # Hz\n",
    "window_size = 2 * fs # 2 segundos\n",
    "step_size = int(0.5 * fs) # 0.5 segundos de solapamiento\n",
    "\n",
    "segments = []\n",
    "labels = []\n",
    "\n",
    "# Ejemplo: agrupar por bloques con mismo nivel de n-back (evento código 4)\n",
    "nback_blocks = events[events[1] == 4]\n",
    "\n",
    "for i in range(len(nback_blocks) - 1):\n",
    "    n_val = int(events.iloc[nback_blocks.index[i], 2])\n",
    "    start_time = nback_blocks.iloc[i, 0]\n",
    "    end_time = nback_blocks.iloc[i+1, 0]\n",
    "\n",
    "    eeg_block = eeg[(eeg['timestamp'] >= start_time) & (eeg['timestamp'] < end_time)]\n",
    "\n",
    "    for start in range(0, len(eeg_block) - window_size, step_size):\n",
    "        window = eeg_block.iloc[start:start + window_size, 1:]\n",
    "        segments.append(window.values)\n",
    "        labels.append(n_val)  # n (nivel de carga cognitiva)\n"
   ]
  },
  {
   "cell_type": "markdown",
   "id": "07f07230",
   "metadata": {},
   "source": [
    "# Extracción de características"
   ]
  },
  {
   "cell_type": "code",
   "execution_count": null,
   "id": "ede13c68",
   "metadata": {},
   "outputs": [],
   "source": [
    "def extract_features(segment):\n",
    "    features = []\n",
    "    for channel in segment.T:\n",
    "        features.append(np.mean(channel))\n",
    "        features.append(np.std(channel))\n",
    "        features.append(ant.petrosian_fd(channel))  # complejidad\n",
    "        features.append(ant.spectral_entropy(channel, sf=fs))\n",
    "    return features\n",
    "\n",
    "X = np.array([extract_features(seg) for seg in segments])\n",
    "y = np.array(labels)\n"
   ]
  },
  {
   "cell_type": "markdown",
   "id": "0597e591",
   "metadata": {},
   "source": [
    "# Preprocesamiento"
   ]
  },
  {
   "cell_type": "code",
   "execution_count": null,
   "id": "eba83d7e",
   "metadata": {},
   "outputs": [],
   "source": [
    "scaler = StandardScaler()\n",
    "X_scaled = scaler.fit_transform(X)\n",
    "\n",
    "X_train, X_test, y_train, y_test = train_test_split(X_scaled, y, stratify=y, test_size=0.2, random_state=42)"
   ]
  },
  {
   "cell_type": "markdown",
   "id": "5eb3be73",
   "metadata": {},
   "source": [
    "# Entrenamiento del modelo"
   ]
  },
  {
   "cell_type": "markdown",
   "id": "f77127c1",
   "metadata": {},
   "source": [
    "## Random Forest"
   ]
  },
  {
   "cell_type": "code",
   "execution_count": null,
   "id": "6577402b",
   "metadata": {},
   "outputs": [],
   "source": [
    "clf = RandomForestClassifier(n_estimators=100, random_state=42)\n",
    "clf.fit(X_train, y_train)\n",
    "y_pred_rf = clf.predict(X_test)\n",
    "\n",
    "print(classification_report(y_test, y_pred_rf))\n"
   ]
  },
  {
   "cell_type": "markdown",
   "id": "311de538",
   "metadata": {},
   "source": [
    "## SVM"
   ]
  },
  {
   "cell_type": "code",
   "execution_count": null,
   "id": "9290c896",
   "metadata": {},
   "outputs": [],
   "source": [
    "svm_model = SVC(kernel='rbf', C=1, gamma='scale')\n",
    "svm_model.fit(X_train, y_train)\n",
    "y_pred_svm = svm_model.predict(X_test)\n",
    "\n",
    "print(\"SVM Classification Report:\")\n",
    "print(classification_report(y_test, y_pred_svm))\n"
   ]
  },
  {
   "cell_type": "markdown",
   "id": "c48054c9",
   "metadata": {},
   "source": [
    "## KNN"
   ]
  },
  {
   "cell_type": "code",
   "execution_count": null,
   "id": "ca06f292",
   "metadata": {},
   "outputs": [],
   "source": [
    "knn_model = KNeighborsClassifier(n_neighbors=5)\n",
    "knn_model.fit(X_train, y_train)\n",
    "y_pred_knn = knn_model.predict(X_test)\n",
    "\n",
    "print(\"KNN Classification Report:\")\n",
    "print(classification_report(y_test, y_pred_knn))\n"
   ]
  },
  {
   "cell_type": "markdown",
   "id": "8ae54e19",
   "metadata": {},
   "source": [
    "# Visualización"
   ]
  },
  {
   "cell_type": "markdown",
   "id": "a36ac209",
   "metadata": {},
   "source": [
    "## Matiz de confusión"
   ]
  },
  {
   "cell_type": "code",
   "execution_count": null,
   "id": "ad6e9430",
   "metadata": {},
   "outputs": [],
   "source": [
    "import matplotlib.pyplot as plt\n",
    "import seaborn as sns\n",
    "from sklearn.metrics import ConfusionMatrixDisplay\n",
    "\n",
    "def plot_confusion(y_true, y_pred, model_name):\n",
    "    cm = confusion_matrix(y_true, y_pred)\n",
    "    disp = ConfusionMatrixDisplay(confusion_matrix=cm)\n",
    "    disp.plot(cmap='Blues')\n",
    "    plt.title(f'Matriz de confusión: {model_name}')\n",
    "    plt.grid(False)\n",
    "    plt.show()\n",
    "\n",
    "plot_confusion(y_test, y_pred_rf, \"Random Forest\")\n",
    "plot_confusion(y_test, y_pred_svm, \"SVM\")\n",
    "plot_confusion(y_test, y_pred_knn, \"KNN\")\n"
   ]
  },
  {
   "cell_type": "markdown",
   "id": "61c19f78",
   "metadata": {},
   "source": [
    "## Métricas"
   ]
  },
  {
   "cell_type": "code",
   "execution_count": null,
   "id": "9c687e6a",
   "metadata": {},
   "outputs": [],
   "source": [
    "\n",
    "\n",
    "def get_metrics(y_true, y_pred, model_name):\n",
    "    return {\n",
    "        \"Modelo\": model_name,\n",
    "        \"Accuracy\": accuracy_score(y_true, y_pred),\n",
    "        \"Precision\": precision_score(y_true, y_pred, average='weighted'),\n",
    "        \"Recall\": recall_score(y_true, y_pred, average='weighted'),\n",
    "        \"F1-score\": f1_score(y_true, y_pred, average='weighted')\n",
    "    }\n",
    "\n",
    "results = [\n",
    "    get_metrics(y_test, y_pred_rf, \"Random Forest\"),\n",
    "    get_metrics(y_test, y_pred_svm, \"SVM\"),\n",
    "    get_metrics(y_test, y_pred_knn, \"KNN\")\n",
    "]\n",
    "\n",
    "metrics_df = pd.DataFrame(results)\n",
    "\n",
    "# Visualización en barra\n",
    "metrics_df.set_index(\"Modelo\")[[\"Accuracy\", \"Precision\", \"Recall\", \"F1-score\"]].plot(kind='bar', figsize=(10,6), ylim=(0,1), colormap=\"Set2\")\n",
    "plt.title(\"Comparación de Métricas\")\n",
    "plt.ylabel(\"Valor\")\n",
    "plt.xticks(rotation=0)\n",
    "plt.grid(axis='y')\n",
    "plt.show()\n"
   ]
  },
  {
   "cell_type": "markdown",
   "id": "1756083a",
   "metadata": {},
   "source": [
    "## Visualización 2D de los datos con PCA"
   ]
  },
  {
   "cell_type": "code",
   "execution_count": null,
   "id": "89dde1d2",
   "metadata": {},
   "outputs": [],
   "source": [
    "\n",
    "pca = PCA(n_components=2)\n",
    "X_pca = pca.fit_transform(X_scaled)\n",
    "\n",
    "# Visualización con clases reales\n",
    "plt.figure(figsize=(8,6))\n",
    "sns.scatterplot(x=X_pca[:,0], y=X_pca[:,1], hue=y, palette='Set2', alpha=0.7)\n",
    "plt.title(\"Visualización PCA por clase real\")\n",
    "plt.xlabel(\"Componente 1\")\n",
    "plt.ylabel(\"Componente 2\")\n",
    "plt.legend(title=\"Carga Cognitiva (n)\")\n",
    "plt.grid(True)\n",
    "plt.show()"
   ]
  }
 ],
 "metadata": {
  "kernelspec": {
   "display_name": "Python 3",
   "language": "python",
   "name": "python3"
  },
  "language_info": {
   "codemirror_mode": {
    "name": "ipython",
    "version": 3
   },
   "file_extension": ".py",
   "mimetype": "text/x-python",
   "name": "python",
   "nbconvert_exporter": "python",
   "pygments_lexer": "ipython3",
   "version": "3.10.0"
  }
 },
 "nbformat": 4,
 "nbformat_minor": 5
}
