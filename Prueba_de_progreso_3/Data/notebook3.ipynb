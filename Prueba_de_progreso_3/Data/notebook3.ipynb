{
 "cells": [
  {
   "cell_type": "markdown",
   "id": "1b18cba9",
   "metadata": {},
   "source": [
    "# Imports"
   ]
  },
  {
   "cell_type": "code",
   "execution_count": 10,
   "id": "fcdf239f",
   "metadata": {},
   "outputs": [],
   "source": [
    "import numpy as np\n",
    "import pandas as pd\n",
    "import matplotlib.pyplot as plt\n",
    "from io import StringIO\n",
    "import os \n",
    "import seaborn as sns\n",
    "import mne  # Muy útil para EEG\n",
    "from sklearn.preprocessing import StandardScaler\n",
    "from sklearn.model_selection import train_test_split, cross_val_score\n",
    "from sklearn.ensemble import RandomForestClassifier\n",
    "from sklearn.metrics import classification_report, confusion_matrix\n",
    "import antropy as ant\n",
    "from sklearn.svm import SVC\n",
    "from sklearn.neighbors import KNeighborsClassifier\n",
    "from sklearn.metrics import precision_score, recall_score, f1_score\n",
    "from sklearn.decomposition import PCA\n",
    "from sklearn.metrics import accuracy_score\n",
    "\n"
   ]
  },
  {
   "cell_type": "markdown",
   "id": "f966a2ff",
   "metadata": {},
   "source": [
    "# Carga de datos"
   ]
  },
  {
   "cell_type": "code",
   "execution_count": 19,
   "id": "e803c108",
   "metadata": {},
   "outputs": [
    {
     "name": "stdout",
     "output_type": "stream",
     "text": [
      "EEG combinado con nombres actualizados:\n",
      "   timestamp           F4            Oz            Fz            F8  \\\n",
      "0   0.045299  2327.497887  14123.593249  19397.060884  15709.190157   \n",
      "1   0.049206  2370.036155  14146.383345  19430.449044  15774.822714   \n",
      "2   0.053112  2344.581333  14114.430973  19402.548515  15743.916764   \n",
      "3   0.057018  2391.159277  14158.879570  19451.718178  15794.388370   \n",
      "4   0.060925  2308.747466  14097.809899  19366.471294  15694.175219   \n",
      "\n",
      "            Pz            F5            T5           T3            C4  \\\n",
      "0  3360.109478  17359.494877  23611.987567  9074.315427  19640.499994   \n",
      "1  3389.786490  17380.532825  23620.748308  9078.987823  19665.455941   \n",
      "2  3350.107631  17357.085673  23599.345330  9150.229688  19653.215238   \n",
      "3  3394.349377  17409.504111  23619.896570  9195.578694  19687.540310   \n",
      "4  3320.880823  17326.848947  23567.526802  8976.560151  19600.456104   \n",
      "\n",
      "             C3            T4            P4            T6           Cz  \\\n",
      "0  25970.245391  19613.512043  18377.614741  41584.637022  4924.400749   \n",
      "1  25989.373010  19676.954414  18387.908613  41578.565341  4941.642375   \n",
      "2  25947.868997  19662.937227  18372.759830  41565.472900  4912.379064   \n",
      "3  25997.148169  19734.106086  18416.052495  41611.770986  4955.343202   \n",
      "4  25918.922046  19545.385108  18327.179638  41491.724489  4875.231086   \n",
      "\n",
      "             P3            F7 source_file  \n",
      "0  14303.857677  19162.930062   EEG_1.csv  \n",
      "1  14330.991641  19149.594266   EEG_1.csv  \n",
      "2  14283.038748  19140.602338   EEG_1.csv  \n",
      "3  14307.653999  19206.514752   EEG_1.csv  \n",
      "4  14239.879927  19117.082180   EEG_1.csv  \n",
      "EEG combinado:\n",
      "   timestamp           F4            Oz            Fz            F8  \\\n",
      "0   0.045299  2327.497887  14123.593249  19397.060884  15709.190157   \n",
      "1   0.049206  2370.036155  14146.383345  19430.449044  15774.822714   \n",
      "2   0.053112  2344.581333  14114.430973  19402.548515  15743.916764   \n",
      "3   0.057018  2391.159277  14158.879570  19451.718178  15794.388370   \n",
      "4   0.060925  2308.747466  14097.809899  19366.471294  15694.175219   \n",
      "\n",
      "            Pz            F5            T5           T3            C4  \\\n",
      "0  3360.109478  17359.494877  23611.987567  9074.315427  19640.499994   \n",
      "1  3389.786490  17380.532825  23620.748308  9078.987823  19665.455941   \n",
      "2  3350.107631  17357.085673  23599.345330  9150.229688  19653.215238   \n",
      "3  3394.349377  17409.504111  23619.896570  9195.578694  19687.540310   \n",
      "4  3320.880823  17326.848947  23567.526802  8976.560151  19600.456104   \n",
      "\n",
      "             C3            T4            P4            T6           Cz  \\\n",
      "0  25970.245391  19613.512043  18377.614741  41584.637022  4924.400749   \n",
      "1  25989.373010  19676.954414  18387.908613  41578.565341  4941.642375   \n",
      "2  25947.868997  19662.937227  18372.759830  41565.472900  4912.379064   \n",
      "3  25997.148169  19734.106086  18416.052495  41611.770986  4955.343202   \n",
      "4  25918.922046  19545.385108  18327.179638  41491.724489  4875.231086   \n",
      "\n",
      "             P3            F7 source_file  \n",
      "0  14303.857677  19162.930062   EEG_1.csv  \n",
      "1  14330.991641  19149.594266   EEG_1.csv  \n",
      "2  14283.038748  19140.602338   EEG_1.csv  \n",
      "3  14307.653999  19206.514752   EEG_1.csv  \n",
      "4  14239.879927  19117.082180   EEG_1.csv  \n",
      "\n",
      "NBack combinado:\n",
      "        Time  Event Code  Notes  source_file\n",
      "0  17.921582           1    1.0  NBack_1.csv\n",
      "1  20.567397           5    6.0  NBack_1.csv\n",
      "2  23.127966           5    2.0  NBack_1.csv\n",
      "3  25.646424           5    9.0  NBack_1.csv\n",
      "4  28.122818           5    1.0  NBack_1.csv\n"
     ]
    }
   ],
   "source": [
    "# Ruta de las carpetas\n",
    "channels_file = 'Data/channels.csv'\n",
    "eeg_folder = 'Data/NBack/'\n",
    "\n",
    "# Combinar todos los archivos EEG\n",
    "all_eeg = []\n",
    "eeg_files = [f for f in os.listdir(eeg_folder) if f.startswith('EEG_') and f.endswith('.csv')]\n",
    "\n",
    "for eeg_file in eeg_files:\n",
    "    with open(os.path.join(eeg_folder, eeg_file), 'r') as file:\n",
    "        lines = file.readlines()\n",
    "    lines[0] = lines[0].lstrip(',')  # Eliminar la coma inicial de la primera línea\n",
    "    eeg_data = pd.read_csv(StringIO(''.join(lines)))\n",
    "    eeg_data['source_file'] = eeg_file  # Agregar columna para identificar el archivo de origen\n",
    "    all_eeg.append(eeg_data)\n",
    "\n",
    "combined_eeg = pd.concat(all_eeg, ignore_index=True)\n",
    "\n",
    "# Combinar todos los archivos NBack\n",
    "all_nback = []\n",
    "nback_files = [f for f in os.listdir(eeg_folder) if f.startswith('NBack_') and f.endswith('.csv')]\n",
    "\n",
    "for nback_file in nback_files:\n",
    "    nback_data = pd.read_csv(os.path.join(eeg_folder, nback_file))\n",
    "    nback_data['source_file'] = nback_file  # Agregar columna para identificar el archivo de origen\n",
    "    all_nback.append(nback_data)\n",
    "\n",
    "combined_nback = pd.concat(all_nback, ignore_index=True)\n",
    "\n",
    "# Leer los nombres de los canales desde el archivo channels.csv\n",
    "channels = ['timestamp'] + pd.read_csv(channels_file, header=None).iloc[0].tolist()\n",
    "\n",
    "# Cambiar los nombres de las columnas del DataFrame combinado de EEG\n",
    "combined_eeg.columns = channels + ['source_file']  # Mantener la columna 'source_file' al final\n",
    "\n",
    "# Mostrar un resumen del DataFrame combinado con los nuevos nombres de columnas\n",
    "print(\"EEG combinado con nombres actualizados:\")\n",
    "print(combined_eeg.head())\n",
    "\n",
    "# Opcional: Guardar los DataFrames combinados en archivos CSV\n",
    "# combined_eeg.to_csv('combined_eeg.csv', index=False)\n",
    "# combined_nback.to_csv('combined_nback.csv', index=False)\n",
    "\n",
    "# Mostrar un resumen de los datos combinados\n",
    "print(\"EEG combinado:\")\n",
    "print(combined_eeg.head())\n",
    "print(\"\\nNBack combinado:\")\n",
    "print(combined_nback.head())"
   ]
  },
  {
   "cell_type": "code",
   "execution_count": 21,
   "id": "0560ee12",
   "metadata": {},
   "outputs": [
    {
     "name": "stdout",
     "output_type": "stream",
     "text": [
      "\n",
      "NBack combinado:\n",
      "        Time  Event Code  Notes  source_file\n",
      "0  17.921582           1    1.0  NBack_1.csv\n",
      "1  20.567397           5    6.0  NBack_1.csv\n",
      "2  23.127966           5    2.0  NBack_1.csv\n",
      "3  25.646424           5    9.0  NBack_1.csv\n",
      "4  28.122818           5    1.0  NBack_1.csv\n"
     ]
    }
   ],
   "source": [
    "print(\"\\nNBack combinado:\")\n",
    "print(combined_nback.head())"
   ]
  },
  {
   "cell_type": "markdown",
   "id": "93de68f0",
   "metadata": {},
   "source": [
    "# Segmentación por ventanas deslizantes"
   ]
  },
  {
   "cell_type": "code",
   "execution_count": 26,
   "id": "b8dc725c",
   "metadata": {},
   "outputs": [
    {
     "name": "stdout",
     "output_type": "stream",
     "text": [
      "Total de ventanas deslizantes etiquetadas: 2426\n",
      "Primera ventana deslizante:\n",
      "      timestamp           F4            Oz            Fz            F8  \\\n",
      "8192  32.046504  2336.222125  15156.144001  19079.410991  15608.660646   \n",
      "8193  32.050410  2337.755255  15127.562081  19076.381234  15602.771481   \n",
      "8194  32.054317  2326.098602  15123.291220  19063.094109  15597.417694   \n",
      "8195  32.058223  2327.412713  15150.875388  19067.097282  15599.425364   \n",
      "8196  32.062129  2345.627755  15157.385106  19078.303730  15591.954398   \n",
      "\n",
      "               Pz            F5            T5           T3            C4  \\\n",
      "8192  3740.070146  17117.966095  23900.434988  8900.548549  19526.379166   \n",
      "8193  3721.319726  17117.199530  23871.609714  8894.184844  19521.597261   \n",
      "8194  3712.206121  17099.751053  23869.017994  8909.370129  19514.710345   \n",
      "8195  3727.415742  17105.688889  23886.466472  8894.683719  19514.807686   \n",
      "8196  3730.092635  17113.354538  23891.333550  8895.766644  19529.262910   \n",
      "\n",
      "                C3            T4            P4            T6           Cz  \\\n",
      "8192  25780.307644  19767.287395  18708.101555  41862.316031  4471.336558   \n",
      "8193  25777.728092  19745.032678  18689.923016  41838.649861  4450.992169   \n",
      "8194  25755.436871  19786.694872  18688.061358  41834.634521  4444.482451   \n",
      "8195  25767.276040  19768.917867  18700.192552  41844.027983  4455.749738   \n",
      "8196  25781.938115  19772.860200  18701.530998  41861.951000  4461.456388   \n",
      "\n",
      "                P3            F7 source_file  \n",
      "8192  14841.183169  18738.301778   EEG_1.csv  \n",
      "8193  14824.197064  18723.773548   EEG_1.csv  \n",
      "8194  14814.523745  18719.283668   EEG_1.csv  \n",
      "8195  14827.360665  18723.457188   EEG_1.csv  \n",
      "8196  14838.311592  18728.080913   EEG_1.csv  \n",
      "Etiqueta: nan\n"
     ]
    }
   ],
   "source": [
    "# --- PARTE 1: Configuración de ventana ---\n",
    "freq = 256  # Frecuencia de muestreo (Hz)\n",
    "segundos = 4\n",
    "ventana = freq * segundos\n",
    "desplazamiento = ventana // 2\n",
    "\n",
    "# --- PARTE 2: Cargar eventos ---\n",
    "bloques_n = combined_nback[combined_nback['Event Code'] == 4].reset_index(drop=True)\n",
    "\n",
    "# --- PARTE 3: Crear ventanas deslizantes con etiquetas ---\n",
    "ventanas_deslizantes = []\n",
    "etiquetas = []\n",
    "\n",
    "for i in range(0, len(combined_eeg) - ventana + 1, desplazamiento):\n",
    "    ventana_df = combined_eeg.iloc[i:i + ventana].copy()\n",
    "    tiempo_inicio = ventana_df['timestamp'].iloc[0]\n",
    "\n",
    "    # Buscar el valor de n correspondiente a ese tiempo\n",
    "    n_actual = None\n",
    "    for j in range(len(bloques_n) - 1):\n",
    "        if bloques_n['Time'][j] <= tiempo_inicio < bloques_n['Time'][j + 1]:\n",
    "            n_actual = bloques_n['Notes'][j]\n",
    "            break\n",
    "    if n_actual is None:\n",
    "        # Si está después del último evento de tipo 4, usar ese último valor\n",
    "        if tiempo_inicio >= bloques_n['Time'].iloc[-1]:\n",
    "            n_actual = bloques_n['Notes'].iloc[-1]\n",
    "        else:\n",
    "            continue  # Si no encaja en ningún bloque, descartar\n",
    "\n",
    "    ventanas_deslizantes.append(ventana_df)\n",
    "    etiquetas.append(n_actual)\n",
    "\n",
    "print(f\"Total de ventanas deslizantes etiquetadas: {len(ventanas_deslizantes)}\")\n",
    "\n",
    "# Mostrar un ejemplo\n",
    "if ventanas_deslizantes:\n",
    "    print(\"Primera ventana deslizante:\")\n",
    "    print(ventanas_deslizantes[0].head())\n",
    "    print(\"Etiqueta:\", etiquetas[0])\n"
   ]
  },
  {
   "cell_type": "markdown",
   "id": "07f07230",
   "metadata": {},
   "source": [
    "# Extracción de características"
   ]
  },
  {
   "cell_type": "code",
   "execution_count": null,
   "id": "ede13c68",
   "metadata": {},
   "outputs": [],
   "source": [
    "def extract_features(segment):\n",
    "    features = []\n",
    "    for channel in segment.T:\n",
    "        features.append(np.mean(channel))\n",
    "        features.append(np.std(channel))\n",
    "        features.append(ant.petrosian_fd(channel))  # complejidad\n",
    "        features.append(ant.spectral_entropy(channel, sf=fs))\n",
    "    return features\n",
    "\n",
    "X = np.array([extract_features(seg) for seg in segments])\n",
    "y = np.array(labels)\n"
   ]
  },
  {
   "cell_type": "markdown",
   "id": "0597e591",
   "metadata": {},
   "source": [
    "# Preprocesamiento"
   ]
  },
  {
   "cell_type": "code",
   "execution_count": null,
   "id": "eba83d7e",
   "metadata": {},
   "outputs": [],
   "source": [
    "scaler = StandardScaler()\n",
    "X_scaled = scaler.fit_transform(X)\n",
    "\n",
    "X_train, X_test, y_train, y_test = train_test_split(X_scaled, y, stratify=y, test_size=0.2, random_state=42)"
   ]
  },
  {
   "cell_type": "markdown",
   "id": "5eb3be73",
   "metadata": {},
   "source": [
    "# Entrenamiento del modelo"
   ]
  },
  {
   "cell_type": "markdown",
   "id": "f77127c1",
   "metadata": {},
   "source": [
    "## Random Forest"
   ]
  },
  {
   "cell_type": "code",
   "execution_count": null,
   "id": "6577402b",
   "metadata": {},
   "outputs": [],
   "source": [
    "clf = RandomForestClassifier(n_estimators=100, random_state=42)\n",
    "clf.fit(X_train, y_train)\n",
    "y_pred_rf = clf.predict(X_test)\n",
    "\n",
    "print(classification_report(y_test, y_pred_rf))\n"
   ]
  },
  {
   "cell_type": "markdown",
   "id": "311de538",
   "metadata": {},
   "source": [
    "## SVM"
   ]
  },
  {
   "cell_type": "code",
   "execution_count": null,
   "id": "9290c896",
   "metadata": {},
   "outputs": [],
   "source": [
    "svm_model = SVC(kernel='rbf', C=1, gamma='scale')\n",
    "svm_model.fit(X_train, y_train)\n",
    "y_pred_svm = svm_model.predict(X_test)\n",
    "\n",
    "print(\"SVM Classification Report:\")\n",
    "print(classification_report(y_test, y_pred_svm))\n"
   ]
  },
  {
   "cell_type": "markdown",
   "id": "c48054c9",
   "metadata": {},
   "source": [
    "## KNN"
   ]
  },
  {
   "cell_type": "code",
   "execution_count": null,
   "id": "ca06f292",
   "metadata": {},
   "outputs": [],
   "source": [
    "knn_model = KNeighborsClassifier(n_neighbors=5)\n",
    "knn_model.fit(X_train, y_train)\n",
    "y_pred_knn = knn_model.predict(X_test)\n",
    "\n",
    "print(\"KNN Classification Report:\")\n",
    "print(classification_report(y_test, y_pred_knn))\n"
   ]
  },
  {
   "cell_type": "markdown",
   "id": "8ae54e19",
   "metadata": {},
   "source": [
    "# Visualización"
   ]
  },
  {
   "cell_type": "markdown",
   "id": "a36ac209",
   "metadata": {},
   "source": [
    "## Matiz de confusión"
   ]
  },
  {
   "cell_type": "code",
   "execution_count": null,
   "id": "ad6e9430",
   "metadata": {},
   "outputs": [],
   "source": [
    "import matplotlib.pyplot as plt\n",
    "import seaborn as sns\n",
    "from sklearn.metrics import ConfusionMatrixDisplay\n",
    "\n",
    "def plot_confusion(y_true, y_pred, model_name):\n",
    "    cm = confusion_matrix(y_true, y_pred)\n",
    "    disp = ConfusionMatrixDisplay(confusion_matrix=cm)\n",
    "    disp.plot(cmap='Blues')\n",
    "    plt.title(f'Matriz de confusión: {model_name}')\n",
    "    plt.grid(False)\n",
    "    plt.show()\n",
    "\n",
    "plot_confusion(y_test, y_pred_rf, \"Random Forest\")\n",
    "plot_confusion(y_test, y_pred_svm, \"SVM\")\n",
    "plot_confusion(y_test, y_pred_knn, \"KNN\")\n"
   ]
  },
  {
   "cell_type": "markdown",
   "id": "61c19f78",
   "metadata": {},
   "source": [
    "## Métricas"
   ]
  },
  {
   "cell_type": "code",
   "execution_count": null,
   "id": "9c687e6a",
   "metadata": {},
   "outputs": [],
   "source": [
    "\n",
    "\n",
    "def get_metrics(y_true, y_pred, model_name):\n",
    "    return {\n",
    "        \"Modelo\": model_name,\n",
    "        \"Accuracy\": accuracy_score(y_true, y_pred),\n",
    "        \"Precision\": precision_score(y_true, y_pred, average='weighted'),\n",
    "        \"Recall\": recall_score(y_true, y_pred, average='weighted'),\n",
    "        \"F1-score\": f1_score(y_true, y_pred, average='weighted')\n",
    "    }\n",
    "\n",
    "results = [\n",
    "    get_metrics(y_test, y_pred_rf, \"Random Forest\"),\n",
    "    get_metrics(y_test, y_pred_svm, \"SVM\"),\n",
    "    get_metrics(y_test, y_pred_knn, \"KNN\")\n",
    "]\n",
    "\n",
    "metrics_df = pd.DataFrame(results)\n",
    "\n",
    "# Visualización en barra\n",
    "metrics_df.set_index(\"Modelo\")[[\"Accuracy\", \"Precision\", \"Recall\", \"F1-score\"]].plot(kind='bar', figsize=(10,6), ylim=(0,1), colormap=\"Set2\")\n",
    "plt.title(\"Comparación de Métricas\")\n",
    "plt.ylabel(\"Valor\")\n",
    "plt.xticks(rotation=0)\n",
    "plt.grid(axis='y')\n",
    "plt.show()\n"
   ]
  },
  {
   "cell_type": "markdown",
   "id": "1756083a",
   "metadata": {},
   "source": [
    "## Visualización 2D de los datos con PCA"
   ]
  },
  {
   "cell_type": "code",
   "execution_count": null,
   "id": "89dde1d2",
   "metadata": {},
   "outputs": [],
   "source": [
    "\n",
    "pca = PCA(n_components=2)\n",
    "X_pca = pca.fit_transform(X_scaled)\n",
    "\n",
    "# Visualización con clases reales\n",
    "plt.figure(figsize=(8,6))\n",
    "sns.scatterplot(x=X_pca[:,0], y=X_pca[:,1], hue=y, palette='Set2', alpha=0.7)\n",
    "plt.title(\"Visualización PCA por clase real\")\n",
    "plt.xlabel(\"Componente 1\")\n",
    "plt.ylabel(\"Componente 2\")\n",
    "plt.legend(title=\"Carga Cognitiva (n)\")\n",
    "plt.grid(True)\n",
    "plt.show()"
   ]
  }
 ],
 "metadata": {
  "kernelspec": {
   "display_name": "Python 3",
   "language": "python",
   "name": "python3"
  },
  "language_info": {
   "codemirror_mode": {
    "name": "ipython",
    "version": 3
   },
   "file_extension": ".py",
   "mimetype": "text/x-python",
   "name": "python",
   "nbconvert_exporter": "python",
   "pygments_lexer": "ipython3",
   "version": "3.10.0"
  }
 },
 "nbformat": 4,
 "nbformat_minor": 5
}
